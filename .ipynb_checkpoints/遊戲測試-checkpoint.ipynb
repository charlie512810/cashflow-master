{
 "cells": [
  {
   "cell_type": "code",
   "execution_count": 1,
   "id": "6fd12459-6c07-439b-a73e-3dc5d6c962c2",
   "metadata": {},
   "outputs": [],
   "source": [
    "import random\n",
    "\n",
    "### ------------------ 區塊二：玩家與職業管理 ------------------\n",
    "class Job:\n",
    "    def __init__(self, title, salary, expense, bonus_type, bonus_params):\n",
    "        self.title = title\n",
    "        self.salary = salary          # 每季薪資 = 月薪 × 3\n",
    "        self.expense = expense        # 每季支出 = 月支出 × 3\n",
    "        self.bonus_type = bonus_type  # 'annual','performance','sales','project'\n",
    "        self.bonus_params = bonus_params  # dict 內含獎金細節\n"
   ]
  },
  {
   "cell_type": "code",
   "execution_count": 2,
   "id": "24e6f427-0e69-48da-bdd2-c88d7d35eaa1",
   "metadata": {},
   "outputs": [],
   "source": [
    "class Player:\n",
    "    def __init__(self, name, job, initial_cash):\n",
    "        self.name = name\n",
    "        self.job = job\n",
    "        self.cash = initial_cash\n",
    "        self.base_expense = job.expense\n",
    "        self.expense = job.expense\n",
    "        self.assets = {}              # {'股票':本金}\n",
    "        self.passive = {}             # {'股票':季被動收入}\n",
    "        self.liabilities = {}         # {'Loan1':{'principal', 'repay', 'rate'}}\n",
    "        self.married = False\n",
    "        self.children = 0\n",
    "        self.divorced = False\n",
    "\n",
    "    def net_worth(self):\n",
    "        total_assets = self.cash + sum(self.assets.values())\n",
    "        total_debt = sum(d['principal'] for d in self.liabilities.values())\n",
    "        return total_assets - total_debt\n",
    "\n",
    "    def update_passive_income(self):\n",
    "        return sum(self.passive.values())\n",
    "\n",
    "    def apply_inflation(self):\n",
    "        self.expense = int(self.expense * 1.02)\n",
    "\n",
    "    def can_repay(self):\n",
    "        due = sum(d['repay'] for d in self.liabilities.values())\n",
    "        return self.cash >= (self.base_expense + due)\n",
    "\n",
    "    def summary(self):\n",
    "        print(f\"\\n📊【{self.name} - {self.job.title}】\")\n",
    "        print(f\"  現金：{self.cash}  支出(季)：{self.expense}\")\n",
    "        print(f\"  被動收入(季)：{self.update_passive_income()}  資產：{self.assets}\")\n",
    "        debt_str = {k: v['principal'] for k, v in self.liabilities.items()}\n",
    "        print(f\"  債務：{debt_str}  淨資產：{self.net_worth()}\")\n",
    "\n",
    "def create_all_roles():\n",
    "    return [\n",
    "        (\"A桑\", Job(\"Youtuber\", 0, 60000*3, 'project', {'min':40000,'max':60000}), 200000),\n",
    "        (\"小N\", Job(\"社群小編\", 40000*3, 20000*3, 'performance', {'min':5000,'max':15000,'rate':0.7}), 80000),\n",
    "        (\"大T\", Job(\"工程師\", 85000*3, 30000*3, 'annual', {'min':50000,'max':150000}), 120000),\n",
    "        (\"王a\", Job(\"業務\", 35000*3, 28000*3, 'sales', {'min':10000,'max':50000,'rate':0.6}), 150000),\n",
    "    ]\n",
    "\n",
    "def assign_players(num):\n",
    "    names = [input(f\"請輸入第{i+1}位玩家名字：\") for i in range(num)]\n",
    "    roles = random.sample(create_all_roles(), num)\n",
    "    players = []\n",
    "    for i, name in enumerate(names):\n",
    "        _, job, cash = roles[i]\n",
    "        p = Player(name, job, cash)\n",
    "        p.summary()\n",
    "        players.append(p)\n",
    "    return players"
   ]
  },
  {
   "cell_type": "code",
   "execution_count": 3,
   "id": "f8af03ce-5907-4559-bb0e-46ebdb93a31f",
   "metadata": {},
   "outputs": [],
   "source": [
    "### ------------------ 區塊五：薪資與獎金系統 ------------------\n",
    "class SalaryManager:\n",
    "    def distribute(self, p: Player, season):\n",
    "        # 發放薪資\n",
    "        amount = p.job.salary\n",
    "        p.cash += amount\n",
    "        print(f\"薪資收入：+{amount}\")\n",
    "        bt = p.job.bonus_type\n",
    "        bp = p.job.bonus_params\n",
    "\n",
    "        if bt == 'annual' and season % 4 == 0:\n",
    "            amt = random.randint(bp['min'], bp['max'])\n",
    "            p.cash += amt\n",
    "            print(f\"年終獎金：+{amt}\")\n",
    "\n",
    "        elif bt == 'performance':\n",
    "            if random.random() < bp['rate']:\n",
    "                amt = random.randint(bp['min'], bp['max'])\n",
    "                p.cash += amt\n",
    "                print(f\"績效獎金：+{amt}\")\n",
    "\n",
    "        elif bt == 'sales':\n",
    "            if random.random() < bp['rate']:\n",
    "                amt = random.randint(bp['min'], bp['max'])\n",
    "                p.cash += amt\n",
    "                print(f\"業績獎金：+{amt}\")\n",
    "\n",
    "        elif bt == 'project':\n",
    "            amt = random.randint(bp['min'], bp['max'])\n",
    "            p.cash += amt\n",
    "            print(f\"接案獎金：+{amt}\")"
   ]
  },
  {
   "cell_type": "code",
   "execution_count": 4,
   "id": "8b7086cb-6a9a-439b-a3f6-0c9b5f4ad7ff",
   "metadata": {},
   "outputs": [],
   "source": [
    "### ------------------ 區塊三：環境事件 ------------------\n",
    "class Environment:\n",
    "    def __init__(self):\n",
    "        self.stock = 1.0\n",
    "        self.rent = 1.0\n",
    "\n",
    "class EnvironmentEvent:\n",
    "    def __init__(self):\n",
    "        self.events = [\n",
    "            ('房價小漲', 0, +0.03, 0.08),\n",
    "            ('房價小跌', 0, -0.03, 0.05),\n",
    "            ('股市小漲', +0.08, 0, 0.08),\n",
    "            ('股市小跌', -0.08, 0, 0.05),\n",
    "            ('通膨', 0, 0, 0.04),\n",
    "            ('經濟穩定', 0,0,0.10)\n",
    "        ]\n",
    "    def trigger(self, env: Environment):\n",
    "        r = random.random()\n",
    "        cum = 0\n",
    "        for name, ds, dr, pr in self.events:\n",
    "            cum += pr\n",
    "            if r <= cum:\n",
    "                print(f\"環境事件：{name}\")\n",
    "                if '房價' in name:\n",
    "                    env.rent *= (1+dr)\n",
    "                if '股市' in name:\n",
    "                    env.stock *= (1+ds)\n",
    "                if name == '通膨':\n",
    "                    # 通膨影響在 GameController\n",
    "                    pass\n",
    "                break"
   ]
  },
  {
   "cell_type": "code",
   "execution_count": 5,
   "id": "b090fc1f-ccb5-4363-a810-d6605f2547f9",
   "metadata": {},
   "outputs": [],
   "source": [
    "\n",
    "### ------------------ 區塊三：命運事件 ------------------\n",
    "class FateEvent:\n",
    "    def __init__(self, name, typ, val, desc, prob, once=False, cond=lambda p:True):\n",
    "        self.name, self.typ, self.val, self.desc = name, typ, val, desc\n",
    "        self.prob, self.once, self.cond = prob, once, cond\n",
    "\n",
    "    def apply(self, p: Player):\n",
    "        if not self.cond(p): return\n",
    "        if random.random() > self.prob: return\n",
    "        v = self.val(p) if callable(self.val) else self.val\n",
    "        if self.typ == 'income':\n",
    "            p.cash += v\n",
    "        else:\n",
    "            p.cash -= v\n",
    "        print(f\"命運事件：{self.name} {self.desc}，變動：{'+' if self.typ=='income' else '-'}{v}\")\n",
    "        if self.once:\n",
    "            self.prob = 0\n",
    "\n",
    "class FateDeck:\n",
    "    def __init__(self):\n",
    "        self.events = [\n",
    "            FateEvent('捐款','expense', lambda p:p.job.salary*0.02,'支出2%薪資',0.04),\n",
    "            FateEvent('納稅','expense', lambda p:p.job.salary*0.1,'支出10%薪資',0.05,once=True),\n",
    "            FateEvent('結婚','expense',8000,'一次性支出8000',0.10,once=True,cond=lambda p:not p.married),\n",
    "            FateEvent('小孩','expense',6000,'支出6000',0.03,once=False,cond=lambda p:p.married and p.children<2),\n",
    "            FateEvent('離婚','expense',30000,'一次性支出30000',0.01,once=True,cond=lambda p:p.married),\n",
    "            FateEvent('失業','expense', lambda p:p.job.salary*3,'失去3季薪資',0.02),\n",
    "            FateEvent('撿錢','income', lambda p:random.randint(100,1000),'隨機撿錢',0.05),\n",
    "            FateEvent('中獎','income', lambda p:random.choice([200,40000,200000]),'幸運中獎',0.05),\n",
    "            FateEvent('補助','income', lambda p:random.choice([5000,20000,50000]),'政府補助',0.05)\n",
    "        ]\n",
    "    def draw(self, p: Player):\n",
    "        for e in self.events:\n",
    "            e.apply(p)\n"
   ]
  },
  {
   "cell_type": "code",
   "execution_count": 6,
   "id": "a79c60ed-836e-4e40-825d-cffa2b0ba3fb",
   "metadata": {},
   "outputs": [],
   "source": [
    "### ------------------ 區塊四：機會事件 ------------------\n",
    "class Investment:\n",
    "    def __init__(self, name, cost, base_inc):\n",
    "        self.name, self.cost, self.base_inc = name, cost, base_inc\n",
    "    def apply(self, p: Player, env: Environment):\n",
    "        if p.cash < self.cost:\n",
    "            print(\"資金不足，無法投資\")\n",
    "            return\n",
    "        p.cash -= self.cost\n",
    "        inc = int(self.base_inc * (env.stock if self.name=='股票' else env.rent))\n",
    "        p.assets[self.name] = p.assets.get(self.name,0) + self.cost\n",
    "        p.passive[self.name] = p.passive.get(self.name,0) + inc\n",
    "        print(f\"投資 {self.name} 成本{self.cost}，季被動收入+{inc}\")\n",
    "\n",
    "class Loan:\n",
    "    def __init__(self, tier):\n",
    "        data = {1:(100000,10000),2:(1000000,80000),3:(5000000,350000)}\n",
    "        self.amt, self.repay = data[tier]\n",
    "        self.rate = 0.0125\n",
    "    def apply(self, p: Player):\n",
    "        p.cash += self.amt\n",
    "        key = f\"Loan{len(p.liabilities)+1}\"\n",
    "        p.liabilities[key] = {'principal':self.amt,'repay':self.repay,'rate':self.rate}\n",
    "        p.expense += self.repay\n",
    "        print(f\"貸款{self.amt}，季還{self.repay}\")\n",
    "\n",
    "class ChanceDeck:\n",
    "    def __init__(self):\n",
    "        self.invs = [\n",
    "            Investment('股票',5000,500),\n",
    "            Investment('房地產',15000,3000),\n",
    "            Investment('小生意',50000,2000)\n",
    "        ]\n",
    "\n",
    "    def loan(self, p: Player):                                    #擴充部分(1)\n",
    "        answer = input(\"要貸款嗎？(y/n):\").lower().strip()\n",
    "        if answer == 'y':\n",
    "            print(\"可選擇的貸款等級：\")\n",
    "            print(\"1. 小額貸款 - 借款：100,000，季還款：10,000\")\n",
    "            print(\"2. 中額貸款 - 借款：1,000,000，季還款：80,000\")\n",
    "            print(\"3. 高額貸款 - 借款：5,000,000，季還款：350,000\")\n",
    "            print(f\"\\n💡【風險提醒】目前現金：{p.cash}，支出（含貸款前）：{p.expense}\")\n",
    "            print(\"    若總支出超過可負擔，可能導致破產退出！\\n\")\n",
    "\n",
    "            tier = input(\"請輸入貸款等級 (1/2/3)：\").strip()\n",
    "            if tier in ['1', '2', '3']:\n",
    "                loan = Loan(int(tier))\n",
    "                projected_expense = p.expense + loan.repay\n",
    "                if p.cash < projected_expense:\n",
    "                    print(f\"⚠️ 警告：借款後支出將提升到 {projected_expense}，高於你目前現金 {p.cash}。\")\n",
    "                    if input(\"仍要繼續貸款嗎？(y/n): \").lower() != 'y':\n",
    "                        print(\"已取消貸款。\")\n",
    "                        return\n",
    "                loan.apply(p)\n",
    "            else:\n",
    "                print(\"輸入錯誤，取消貸款。\")                             #擴充部分(1)\n",
    "                 \n",
    "\n",
    "    def invest(self, p: Player, env: Environment):                      #擴充部分(2)\n",
    "        if input(\"要投資嗎？(y/n):\").lower() == 'y':\n",
    "            print(\"可選擇的投資：\")\n",
    "            for i, inv in enumerate(self.invs, 1):\n",
    "                print(f\"{i}. {inv.name} 成本：{inv.cost}，每季收益：約 {inv.base_inc}\")\n",
    "            choice = input(\"請輸入投資編號 (1/2/3)：\")\n",
    "            if choice in ['1', '2', '3']:\n",
    "                inv = self.invs[int(choice)-1]\n",
    "                inv.apply(p, env)\n",
    "            else:\n",
    "                print(\"輸入錯誤，取消投資。\")\n",
    "                                                                        #擴充部分(2)"
   ]
  },
  {
   "cell_type": "code",
   "execution_count": null,
   "id": "7ceff177-4281-413a-8bff-a516be9efbca",
   "metadata": {},
   "outputs": [
    {
     "name": "stdin",
     "output_type": "stream",
     "text": [
      "玩家人數 (2-4): 2\n",
      "遊戲季數:  1\n",
      "請輸入第1位玩家名字： 1\n",
      "請輸入第2位玩家名字： 2\n"
     ]
    },
    {
     "name": "stdout",
     "output_type": "stream",
     "text": [
      "\n",
      "📊【1 - 工程師】\n",
      "  現金：120000  支出(季)：90000\n",
      "  被動收入(季)：0  資產：{}\n",
      "  債務：{}  淨資產：120000\n",
      "\n",
      "📊【2 - 社群小編】\n",
      "  現金：80000  支出(季)：60000\n",
      "  被動收入(季)：0  資產：{}\n",
      "  債務：{}  淨資產：80000\n",
      "\n",
      "=== 第 1 季 ===\n",
      "\n",
      "-- 1 行動 --\n"
     ]
    },
    {
     "name": "stdin",
     "output_type": "stream",
     "text": [
      "要投資嗎？(y/n): y\n"
     ]
    },
    {
     "name": "stdout",
     "output_type": "stream",
     "text": [
      "可選擇的投資：\n",
      "1. 股票 成本：5000，每季收益：約 500\n",
      "2. 房地產 成本：15000，每季收益：約 3000\n",
      "3. 小生意 成本：50000，每季收益：約 2000\n"
     ]
    },
    {
     "name": "stdin",
     "output_type": "stream",
     "text": [
      "請輸入投資編號 (1/2/3)： 3\n"
     ]
    },
    {
     "name": "stdout",
     "output_type": "stream",
     "text": [
      "投資 小生意 成本50000，季被動收入+2000\n"
     ]
    },
    {
     "name": "stdin",
     "output_type": "stream",
     "text": [
      "要貸款嗎？(y/n): y\n"
     ]
    },
    {
     "name": "stdout",
     "output_type": "stream",
     "text": [
      "可選擇的貸款等級：\n",
      "1. 小額貸款 - 借款：100,000，季還款：10,000\n",
      "2. 中額貸款 - 借款：1,000,000，季還款：80,000\n",
      "3. 高額貸款 - 借款：5,000,000，季還款：350,000\n",
      "\n",
      "💡【風險提醒】目前現金：70000，支出（含貸款前）：90000\n",
      "    若總支出超過可負擔，可能導致破產退出！\n",
      "\n"
     ]
    },
    {
     "name": "stdin",
     "output_type": "stream",
     "text": [
      "請輸入貸款等級 (1/2/3)： 3\n"
     ]
    },
    {
     "name": "stdout",
     "output_type": "stream",
     "text": [
      "⚠️ 警告：借款後支出將提升到 440000，高於你目前現金 70000。\n"
     ]
    },
    {
     "name": "stdin",
     "output_type": "stream",
     "text": [
      "仍要繼續貸款嗎？(y/n):  y\n"
     ]
    },
    {
     "name": "stdout",
     "output_type": "stream",
     "text": [
      "貸款5000000，季還350000\n",
      "薪資收入：+255000\n",
      "被動收入：+2000\n",
      "\n",
      "📊【1 - 工程師】\n",
      "  現金：5327000  支出(季)：440000\n",
      "  被動收入(季)：2000  資產：{'小生意': 50000}\n",
      "  債務：{'Loan1': 5000000}  淨資產：377000\n"
     ]
    },
    {
     "name": "stdin",
     "output_type": "stream",
     "text": [
      "Enter 繼續 \n"
     ]
    },
    {
     "name": "stdout",
     "output_type": "stream",
     "text": [
      "\n",
      "-- 2 行動 --\n",
      "命運事件：結婚 一次性支出8000，變動：-8000\n"
     ]
    },
    {
     "name": "stdin",
     "output_type": "stream",
     "text": [
      "要投資嗎？(y/n): n\n",
      "要貸款嗎？(y/n): n\n"
     ]
    },
    {
     "name": "stdout",
     "output_type": "stream",
     "text": [
      "薪資收入：+120000\n",
      "績效獎金：+11181\n",
      "被動收入：+0\n",
      "\n",
      "📊【2 - 社群小編】\n",
      "  現金：203181  支出(季)：60000\n",
      "  被動收入(季)：0  資產：{}\n",
      "  債務：{}  淨資產：203181\n"
     ]
    }
   ],
   "source": [
    "### ------------------ 區塊一：主控制器 ------------------\n",
    "class GameController:\n",
    "    def __init__(self, players, seasons):\n",
    "        self.players = players\n",
    "        self.seasons = seasons\n",
    "        self.env = Environment()\n",
    "        self.env_event = EnvironmentEvent()\n",
    "        self.fate = FateDeck()\n",
    "        self.chance = ChanceDeck()\n",
    "        self.salary = SalaryManager()\n",
    "\n",
    "    def play(self):\n",
    "        for s in range(1, self.seasons+1):\n",
    "            print(f\"\\n=== 第 {s} 季 ===\")\n",
    "            # 通膨每4季\n",
    "            if s % 4 == 0:\n",
    "                for p in self.players:\n",
    "                    p.apply_inflation()\n",
    "            # 環境事件\n",
    "            self.env_event.trigger(self.env)\n",
    "            # 玩家輪流行動\n",
    "            for p in list(self.players):\n",
    "                print(f\"\\n-- {p.name} 行動 --\")\n",
    "                self.fate.draw(p)\n",
    "                self.chance.invest(p, self.env)\n",
    "                self.chance.loan(p)\n",
    "                self.salary.distribute(p, s)\n",
    "                inc = p.update_passive_income()\n",
    "                p.cash += inc\n",
    "                print(f\"被動收入：+{inc}\")\n",
    "                p.summary()\n",
    "\n",
    "                # 破產檢查\n",
    "                if p.cash < 0 or not p.can_repay():\n",
    "                    print(f\"{p.name} 破產，退出遊戲！\")\n",
    "                    self.players.remove(p)\n",
    "                # 勝利條件\n",
    "                if p.update_passive_income() >= p.expense:\n",
    "                    print(f\"\\n🎉 {p.name} 達成財務自由，勝利！\")\n",
    "                    return\n",
    "                input(\"Enter 繼續\")\n",
    "        # 無人提前勝利 → 排行榜\n",
    "        print(\"\\n=== 遊戲結束，最終排行榜 ===\")\n",
    "        ranked = sorted(self.players, key=lambda x: x.net_worth(), reverse=True)\n",
    "        for i, p in enumerate(ranked, 1):\n",
    "            print(f\"{i}. {p.name} 淨資產 {p.net_worth()} 被動收入 {p.update_passive_income()} 支出 {p.expense}\")\n",
    "\n",
    "if __name__ == \"__main__\":\n",
    "    n = int(input(\"玩家人數 (2-4):\"))\n",
    "    r = int(input(\"遊戲季數: \"))\n",
    "    players = assign_players(n)\n",
    "    GameController(players, r).play()\n"
   ]
  },
  {
   "cell_type": "code",
   "execution_count": null,
   "id": "f19a39af-779d-4414-b29e-c6e61f0c218a",
   "metadata": {},
   "outputs": [],
   "source": []
  }
 ],
 "metadata": {
  "kernelspec": {
   "display_name": "Python 3 (ipykernel)",
   "language": "python",
   "name": "python3"
  },
  "language_info": {
   "codemirror_mode": {
    "name": "ipython",
    "version": 3
   },
   "file_extension": ".py",
   "mimetype": "text/x-python",
   "name": "python",
   "nbconvert_exporter": "python",
   "pygments_lexer": "ipython3",
   "version": "3.11.3"
  }
 },
 "nbformat": 4,
 "nbformat_minor": 5
}
